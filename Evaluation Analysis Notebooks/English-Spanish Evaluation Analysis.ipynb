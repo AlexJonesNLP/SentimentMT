{
 "cells": [
  {
   "cell_type": "code",
   "execution_count": 1,
   "metadata": {},
   "outputs": [],
   "source": [
    "maria_responses = [(0.5,2), (4.5,0), (0,2), (5,0), (0.5,2), (3,0),\n",
    "                   (4.5,0), (4.5,0), (0.5,2), (5,0), (5,0), (0.5,2), \n",
    "                   (1,1.5), (0.5,2), (0,2), (0,2), (3,0), (0,0.5), \n",
    "                   (4.5,0), (4.5,0), (4,0), (0,1), (0,0.5), (0,1.5),\n",
    "                   (4,0), (3,0), (3,0), (0,2), (4.5,0), (4,0), (1,1), \n",
    "                   (1,1), (5,0), (4,0), (1,.5), (4,0), (5,0), (4.5,0),\n",
    "                   (3,.5), (5,0), (3,0), (4,0), (2,0), (3,0), (4,0), \n",
    "                   (2.5,0), (3.5,0), (2,0), (0,1), (5,0), (3,0), (1.5,0),\n",
    "                   (5,0), (0,1), (1.5,0), (5,0), (0,2), (0.5,1), (5,0),\n",
    "                   (0.5,1), (0,1), (3.5,0), (0.5,1), (3.5,0), (0,1.5),\n",
    "                   (0,1.5), (5,0), (1,1), (0,1), (0,1), (3,0), (5,0), \n",
    "                   (4,0), (.5,.5), (.5,.5), (0,.5), (3,0), (3.5,0),\n",
    "                   (5,0), (5,0), (5,0), (4,0), (3.5,0), (4,0), (3,0), \n",
    "                   (0,2), (5,0), (2,0), (4,0), (4,0), (3,0), (4,0), (1,0),\n",
    "                   (2,0), (4,0), (2,0), (2,0), (2,0), (4,0), (4,0), (3,0),\n",
    "                   (4,0), (2.5,0), (.5,0), (0,.5), (3.5,0), (0,.5), (3,0),\n",
    "                   (5,0), (5,0), (2,0), (5,0), (4.5,0), (2.5,0), (0,1), \n",
    "                   (0,1), (0,2), (4,0), (3.5,0), (0,2)]"
   ]
  },
  {
   "cell_type": "code",
   "execution_count": 2,
   "metadata": {},
   "outputs": [],
   "source": [
    "manuel_responses = [(1,2),(4,0),(0,2),(4.5,0),(0,2),\n",
    "                   (3.5,0),(5,0),(4.5,0.5),(0,2),(2,1),\n",
    "                   (2,1),(0,2),(5,0),(3,1),(1,1.5),(1,1.5),\n",
    "                   (3.5,0),(5,0),(0.5,2),(0.5,2),(5,0),(2,2),\n",
    "                   (3.5,1.5),(2,2),(5,0),(4,.5),(4,.5),(1.5,2),\n",
    "                   (4,1),(3.5,.5),(5,0),(3,.5),(5,0),(3.5,1),\n",
    "                   (2,2),(5,.5),(5,0),(5,0),(4.5,.5),(5,0),(4.5,0),\n",
    "                   (5,0),(4.5,0),(4.5,0),(5,0),(3.5,.5),(4,.5),\n",
    "                   (3,.5),(1.5,2),(5,0),(3,.5),(2,.5),(5,0),(1,2),\n",
    "                   (3,1),(5,0),(.5,2),(1.5,2),(4.5,.5),(1,2),(1,.5),\n",
    "                   (4.5,.5),(1,1),(4.5,.5),(1,2),(1.5,2),(5,0),(.5,2),\n",
    "                   (1,2),(1.5,2),(3.5,0),(4.5,0),(5,0),(2,1),(2,1),\n",
    "                   (2,1),(5,0),(4,0),(5,0),(5,0),(5,0),(4,0),(2,.5),\n",
    "                   (4.5,0),(4.5,0),(1,2),(5,0),(4,0),(5,0),(4,0),(3.5,.5),\n",
    "                   (4,0),(1,2),(2,2),(5,0),(2,2),(4,0),(4,0),(5,0),(4,0),\n",
    "                   (4.5,0),(5,0),(4.5,0),(3,0),(0,2),(4.5,0),(0,2),(4,0),\n",
    "                   (4,0),(5,0),(5,0),(5,0),(4.5,0),(4,0),(1,1.5),(1.5,1.5),\n",
    "                   (.5,2),(4,0),(4.5,0),(.5,2)]"
   ]
  },
  {
   "cell_type": "code",
   "execution_count": 3,
   "metadata": {},
   "outputs": [
    {
     "name": "stdout",
     "output_type": "stream",
     "text": [
      "True\n"
     ]
    }
   ],
   "source": [
    "print(len(maria_responses)==len(manuel_responses))"
   ]
  },
  {
   "cell_type": "code",
   "execution_count": 4,
   "metadata": {},
   "outputs": [],
   "source": [
    "maria_accuracy_ratings = [pair[0] for pair in maria_responses]\n",
    "manuel_accuracy_ratings = [pair[0] for pair in manuel_responses]\n",
    "maria_sentiment_ratings = [pair[1] for pair in maria_responses]\n",
    "manuel_sentiment_ratings = [pair[1] for pair in manuel_responses]"
   ]
  },
  {
   "cell_type": "code",
   "execution_count": 5,
   "metadata": {},
   "outputs": [],
   "source": [
    "# Computing inter-annotator agreement using \n",
    "# Krippendorff's Alpha\n",
    "\n",
    "#! /usr/bin/env python\n",
    "# -*- coding: utf-8\n",
    "'''\n",
    "Python implementation of Krippendorff's alpha -- inter-rater reliability\n",
    "\n",
    "(c)2011-17 Thomas Grill (http://grrrr.org)\n",
    "\n",
    "Python version >= 2.4 required\n",
    "'''\n",
    "\n",
    "from __future__ import print_function\n",
    "try:\n",
    "    import numpy as np\n",
    "except ImportError:\n",
    "    np = None\n",
    "\n",
    "\n",
    "def nominal_metric(a, b):\n",
    "    return a != b\n",
    "\n",
    "\n",
    "def interval_metric(a, b):\n",
    "    return (a-b)**2\n",
    "\n",
    "\n",
    "def ratio_metric(a, b):\n",
    "    return ((a-b)/(a+b))**2\n",
    "\n",
    "\n",
    "def krippendorff_alpha(data, metric=interval_metric, force_vecmath=False, convert_items=float, missing_items=None):\n",
    "    '''\n",
    "    Calculate Krippendorff's alpha (inter-rater reliability):\n",
    "    \n",
    "    data is in the format\n",
    "    [\n",
    "        {unit1:value, unit2:value, ...},  # coder 1\n",
    "        {unit1:value, unit3:value, ...},   # coder 2\n",
    "        ...                            # more coders\n",
    "    ]\n",
    "    or \n",
    "    it is a sequence of (masked) sequences (list, numpy.array, numpy.ma.array, e.g.) with rows corresponding to coders and columns to items\n",
    "    \n",
    "    metric: function calculating the pairwise distance\n",
    "    force_vecmath: force vector math for custom metrics (numpy required)\n",
    "    convert_items: function for the type conversion of items (default: float)\n",
    "    missing_items: indicator for missing items (default: None)\n",
    "    '''\n",
    "    \n",
    "    # number of coders\n",
    "    m = len(data)\n",
    "    \n",
    "    # set of constants identifying missing values\n",
    "    if missing_items is None:\n",
    "        maskitems = []\n",
    "    else:\n",
    "        maskitems = list(missing_items)\n",
    "    if np is not None:\n",
    "        maskitems.append(np.ma.masked_singleton)\n",
    "    \n",
    "    # convert input data to a dict of items\n",
    "    units = {}\n",
    "    for d in data:\n",
    "        try:\n",
    "            # try if d behaves as a dict\n",
    "            diter = d.items()\n",
    "        except AttributeError:\n",
    "            # sequence assumed for d\n",
    "            diter = enumerate(d)\n",
    "            \n",
    "        for it, g in diter:\n",
    "            if g not in maskitems:\n",
    "                try:\n",
    "                    its = units[it]\n",
    "                except KeyError:\n",
    "                    its = []\n",
    "                    units[it] = its\n",
    "                its.append(convert_items(g))\n",
    "\n",
    "\n",
    "    units = dict((it, d) for it, d in units.items() if len(d) > 1)  # units with pairable values\n",
    "    n = sum(len(pv) for pv in units.values())  # number of pairable values\n",
    "    \n",
    "    if n == 0:\n",
    "        raise ValueError(\"No items to compare.\")\n",
    "    \n",
    "    np_metric = (np is not None) and ((metric in (interval_metric, nominal_metric, ratio_metric)) or force_vecmath)\n",
    "    \n",
    "    Do = 0.\n",
    "    for grades in units.values():\n",
    "        if np_metric:\n",
    "            gr = np.asarray(grades)\n",
    "            Du = sum(np.sum(metric(gr, gri)) for gri in gr)\n",
    "        else:\n",
    "            Du = sum(metric(gi, gj) for gi in grades for gj in grades)\n",
    "        Do += Du/float(len(grades)-1)\n",
    "    Do /= float(n)\n",
    "\n",
    "    if Do == 0:\n",
    "        return 1.\n",
    "\n",
    "    De = 0.\n",
    "    for g1 in units.values():\n",
    "        if np_metric:\n",
    "            d1 = np.asarray(g1)\n",
    "            for g2 in units.values():\n",
    "                De += sum(np.sum(metric(d1, gj)) for gj in g2)\n",
    "        else:\n",
    "            for g2 in units.values():\n",
    "                De += sum(metric(gi, gj) for gi in g1 for gj in g2)\n",
    "    De /= float(n*(n-1))\n",
    "\n",
    "    return 1.-Do/De if (Do and De) else 1. "
   ]
  },
  {
   "cell_type": "code",
   "execution_count": 7,
   "metadata": {},
   "outputs": [
    {
     "name": "stdout",
     "output_type": "stream",
     "text": [
      "Krippendorff's alpha for accuracy (all): 0.675\n"
     ]
    }
   ],
   "source": [
    "sample_accuracy_data = (\n",
    "        maria_accuracy_ratings, # coder A\n",
    "        manuel_accuracy_ratings, # coder B\n",
    "    )\n",
    "print(\"Krippendorff's alpha for accuracy (all): %.3f\" % krippendorff_alpha(sample_accuracy_data, interval_metric))"
   ]
  },
  {
   "cell_type": "code",
   "execution_count": 8,
   "metadata": {},
   "outputs": [],
   "source": [
    "sample_sentiment_data = (\n",
    "        maria_sentiment_ratings, # coder A\n",
    "        manuel_sentiment_ratings, # coder B\n",
    "    )"
   ]
  },
  {
   "cell_type": "code",
   "execution_count": 9,
   "metadata": {},
   "outputs": [
    {
     "name": "stdout",
     "output_type": "stream",
     "text": [
      "Krippendorff's alpha for sentiment div. (all): 0.638\n"
     ]
    }
   ],
   "source": [
    "print(\"Krippendorff's alpha for sentiment div. (all): %.3f\" % krippendorff_alpha(sample_sentiment_data, interval_metric))"
   ]
  },
  {
   "cell_type": "code",
   "execution_count": 10,
   "metadata": {},
   "outputs": [],
   "source": [
    "system_codes = [3,2,1,4,1,3,4,2,1,4,2,3,4,2,3,1,3,4,1,2,\n",
    "               4,2,3,1,4,1,3,2,1,3,4,2,3,4,2,1,3,4,1,2,4,3,2,1,\n",
    "               4,2,3,1,2,4,3,1,4,2,1,3,1,3,4,2,1,4,2,3,1,2,4,3,\n",
    "               2,1,3,4,4,1,2,3,2,3,4,1,4,2,1,3,2,1,4,3,4,3,2,1,\n",
    "               3,1,4,2,1,2,4,3,4,1,3,2,2,4,1,3,2,1,4,3,4,3,2,1,\n",
    "               1,3,4,2]"
   ]
  },
  {
   "cell_type": "code",
   "execution_count": 11,
   "metadata": {},
   "outputs": [],
   "source": [
    "for i in range(len(system_codes)):\n",
    "    if system_codes[i]==1:\n",
    "        system_codes[i] = 'Baseline'\n",
    "    elif system_codes[i]==2:\n",
    "        system_codes[i] = 'Modified'\n",
    "    elif system_codes[i]==3:\n",
    "        system_codes[i] = 'Google Translate'\n",
    "    else:\n",
    "        system_codes[i] = \"Human\""
   ]
  },
  {
   "cell_type": "code",
   "execution_count": 12,
   "metadata": {},
   "outputs": [],
   "source": [
    "# Retrieving averages by translation system\n",
    "\n",
    "acc_human = [manuel_accuracy_ratings[i] for i in \n",
    "            range(len(manuel_accuracy_ratings)) if\n",
    "            system_codes[i]=='Human'] + [maria_accuracy_ratings[i] for i in \n",
    "            range(len(maria_accuracy_ratings)) if\n",
    "            system_codes[i]=='Human']\n",
    "acc_bsl = [manuel_accuracy_ratings[i] for i in \n",
    "            range(len(manuel_accuracy_ratings)) if\n",
    "            system_codes[i]=='Baseline'] + [maria_accuracy_ratings[i] for i in \n",
    "            range(len(maria_accuracy_ratings)) if\n",
    "            system_codes[i]=='Baseline']\n",
    "acc_mod = [manuel_accuracy_ratings[i] for i in \n",
    "            range(len(manuel_accuracy_ratings)) if\n",
    "            system_codes[i]=='Modified'] + [maria_accuracy_ratings[i] for i in \n",
    "            range(len(maria_accuracy_ratings)) if\n",
    "            system_codes[i]=='Modified']\n",
    "acc_gt = [manuel_accuracy_ratings[i] for i in \n",
    "            range(len(manuel_accuracy_ratings)) if\n",
    "            system_codes[i]=='Google Translate'] + [maria_accuracy_ratings[i] for i in \n",
    "            range(len(maria_accuracy_ratings)) if\n",
    "            system_codes[i]=='Google Translate']"
   ]
  },
  {
   "cell_type": "code",
   "execution_count": 13,
   "metadata": {},
   "outputs": [
    {
     "name": "stdout",
     "output_type": "stream",
     "text": [
      "4.283333333333333\n",
      "2.058333333333333\n",
      "2.175\n",
      "3.0833333333333335\n"
     ]
    }
   ],
   "source": [
    "print(np.average(acc_human))\n",
    "print(np.average(acc_bsl))\n",
    "print(np.average(acc_mod))\n",
    "print(np.average(acc_gt))"
   ]
  },
  {
   "cell_type": "code",
   "execution_count": 14,
   "metadata": {},
   "outputs": [],
   "source": [
    "sd_human = [manuel_sentiment_ratings[i] for i in \n",
    "            range(len(manuel_sentiment_ratings)) if\n",
    "            system_codes[i]=='Human'] + [maria_sentiment_ratings[i] for i in \n",
    "            range(len(maria_sentiment_ratings)) if\n",
    "            system_codes[i]=='Human']\n",
    "sd_bsl = [manuel_sentiment_ratings[i] for i in \n",
    "            range(len(manuel_sentiment_ratings)) if\n",
    "            system_codes[i]=='Baseline'] + [maria_sentiment_ratings[i] for i in \n",
    "            range(len(maria_sentiment_ratings)) if\n",
    "            system_codes[i]=='Baseline']\n",
    "sd_mod = [manuel_sentiment_ratings[i] for i in \n",
    "            range(len(manuel_sentiment_ratings)) if\n",
    "            system_codes[i]=='Modified'] + [maria_sentiment_ratings[i] for i in \n",
    "            range(len(maria_sentiment_ratings)) if\n",
    "            system_codes[i]=='Modified']\n",
    "sd_gt = [manuel_sentiment_ratings[i] for i in \n",
    "            range(len(manuel_sentiment_ratings)) if\n",
    "            system_codes[i]=='Google Translate'] + [maria_sentiment_ratings[i] for i in \n",
    "            range(len(maria_sentiment_ratings)) if\n",
    "            system_codes[i]=='Google Translate']"
   ]
  },
  {
   "cell_type": "code",
   "execution_count": 15,
   "metadata": {},
   "outputs": [
    {
     "name": "stdout",
     "output_type": "stream",
     "text": [
      "0.1\n",
      "0.9166666666666666\n",
      "0.8083333333333333\n",
      "0.425\n"
     ]
    }
   ],
   "source": [
    "print(np.average(sd_human))\n",
    "print(np.average(sd_bsl))\n",
    "print(np.average(sd_mod))\n",
    "print(np.average(sd_gt))"
   ]
  },
  {
   "cell_type": "code",
   "execution_count": 16,
   "metadata": {},
   "outputs": [],
   "source": [
    "idiomatic_inds = [0,1,2,3,4,5,6,7,8,9,10,11,20,21,22,23,24,25,26,27,\n",
    "                  36,37,38,39,40,41,42,43,56,57,58,59,60,61,62,63,64,\n",
    "                  65,66,67,72,73,74,75,92,93,94,95,112,113,114,115]\n",
    "# 1, 2, 3, 6, 7, 10, 11, 15, 16, 17, 19, 24, 29"
   ]
  },
  {
   "cell_type": "code",
   "execution_count": 17,
   "metadata": {},
   "outputs": [],
   "source": [
    "# Retrieving averages by translation system\n",
    "\n",
    "idiom_acc_human = [manuel_accuracy_ratings[ind] for ind in \n",
    "            idiomatic_inds if\n",
    "            system_codes[ind]=='Human'] + [maria_accuracy_ratings[ind] for ind in \n",
    "            idiomatic_inds if\n",
    "            system_codes[ind]=='Human']\n",
    "idiom_acc_bsl = [manuel_accuracy_ratings[ind] for ind in \n",
    "            idiomatic_inds if\n",
    "            system_codes[ind]=='Baseline'] + [maria_accuracy_ratings[ind] for ind in \n",
    "            idiomatic_inds if\n",
    "            system_codes[ind]=='Baseline']\n",
    "idiom_acc_mod = [manuel_accuracy_ratings[ind] for ind in \n",
    "            idiomatic_inds if\n",
    "            system_codes[ind]=='Modified'] + [maria_accuracy_ratings[ind] for ind in \n",
    "            idiomatic_inds if\n",
    "            system_codes[ind]=='Modified']\n",
    "idiom_acc_gt = [manuel_accuracy_ratings[ind] for ind in \n",
    "            idiomatic_inds if\n",
    "            system_codes[ind]=='Google Translate'] + [maria_accuracy_ratings[ind] for ind in \n",
    "            idiomatic_inds if\n",
    "            system_codes[ind]=='Google Translate']"
   ]
  },
  {
   "cell_type": "code",
   "execution_count": 18,
   "metadata": {},
   "outputs": [
    {
     "name": "stdout",
     "output_type": "stream",
     "text": [
      "4.4423076923076925\n",
      "1.3653846153846154\n",
      "2.173076923076923\n",
      "2.3076923076923075\n"
     ]
    }
   ],
   "source": [
    "print(np.average(idiom_acc_human))\n",
    "print(np.average(idiom_acc_bsl))\n",
    "print(np.average(idiom_acc_mod))\n",
    "print(np.average(idiom_acc_gt))"
   ]
  },
  {
   "cell_type": "code",
   "execution_count": 19,
   "metadata": {},
   "outputs": [],
   "source": [
    "idiom_sd_human = [manuel_sentiment_ratings[ind] for ind in \n",
    "            idiomatic_inds if\n",
    "            system_codes[ind]=='Human'] + [maria_sentiment_ratings[ind] for ind in \n",
    "            idiomatic_inds if\n",
    "            system_codes[ind]=='Human']\n",
    "idiom_sd_bsl = [manuel_sentiment_ratings[ind] for ind in \n",
    "            idiomatic_inds if\n",
    "            system_codes[ind]=='Baseline'] + [maria_sentiment_ratings[ind] for ind in \n",
    "            idiomatic_inds if\n",
    "            system_codes[ind]=='Baseline']\n",
    "idiom_sd_mod = [manuel_sentiment_ratings[ind] for ind in \n",
    "            idiomatic_inds if\n",
    "            system_codes[ind]=='Modified'] + [maria_sentiment_ratings[ind] for ind in \n",
    "            idiomatic_inds if\n",
    "            system_codes[ind]=='Modified']\n",
    "idiom_sd_gt = [manuel_sentiment_ratings[ind] for ind in \n",
    "            idiomatic_inds if\n",
    "            system_codes[ind]=='Google Translate'] + [maria_sentiment_ratings[ind] for ind in \n",
    "            idiomatic_inds if\n",
    "            system_codes[ind]=='Google Translate']"
   ]
  },
  {
   "cell_type": "code",
   "execution_count": 20,
   "metadata": {},
   "outputs": [
    {
     "name": "stdout",
     "output_type": "stream",
     "text": [
      "0.07692307692307693\n",
      "1.2307692307692308\n",
      "0.8846153846153846\n",
      "0.7884615384615384\n"
     ]
    }
   ],
   "source": [
    "print(np.average(idiom_sd_human))\n",
    "print(np.average(idiom_sd_bsl))\n",
    "print(np.average(idiom_sd_mod))\n",
    "print(np.average(idiom_sd_gt))"
   ]
  },
  {
   "cell_type": "code",
   "execution_count": 21,
   "metadata": {},
   "outputs": [],
   "source": [
    "maria_responses_idiom = [maria_responses[ind] for ind in idiomatic_inds]\n",
    "manuel_responses_idiom = [manuel_responses[ind] for ind in idiomatic_inds]"
   ]
  },
  {
   "cell_type": "code",
   "execution_count": 22,
   "metadata": {},
   "outputs": [],
   "source": [
    "maria_accuracy_ratings_idiom = [pair[0] for pair in maria_responses_idiom]\n",
    "manuel_accuracy_ratings_idiom = [pair[0] for pair in manuel_responses_idiom]\n",
    "maria_sentiment_ratings_idiom = [pair[1] for pair in maria_responses_idiom]\n",
    "manuel_sentiment_ratings_idiom = [pair[1] for pair in manuel_responses_idiom]"
   ]
  },
  {
   "cell_type": "code",
   "execution_count": 23,
   "metadata": {},
   "outputs": [],
   "source": [
    "sample_acc_data_idiom = (\n",
    "        maria_accuracy_ratings_idiom, # coder A\n",
    "        manuel_accuracy_ratings_idiom, # coder B\n",
    "    )"
   ]
  },
  {
   "cell_type": "code",
   "execution_count": 26,
   "metadata": {},
   "outputs": [
    {
     "name": "stdout",
     "output_type": "stream",
     "text": [
      "Krippendorff's alpha for accuracy (idiomatic): 0.767\n"
     ]
    }
   ],
   "source": [
    "print(\"Krippendorff's alpha for accuracy (idiomatic): %.3f\" % krippendorff_alpha(sample_acc_data_idiom, interval_metric))"
   ]
  },
  {
   "cell_type": "code",
   "execution_count": 27,
   "metadata": {},
   "outputs": [],
   "source": [
    "sample_sd_data_idiom = (\n",
    "        maria_sentiment_ratings_idiom, # coder A\n",
    "        manuel_sentiment_ratings_idiom, # coder B\n",
    "    )"
   ]
  },
  {
   "cell_type": "code",
   "execution_count": 29,
   "metadata": {},
   "outputs": [
    {
     "name": "stdout",
     "output_type": "stream",
     "text": [
      "Krippendorff's alpha for sentiment div. (idiomatic): 0.673\n"
     ]
    }
   ],
   "source": [
    "print(\"Krippendorff's alpha for sentiment div. (idiomatic): %.3f\" % krippendorff_alpha(sample_sd_data_idiom, interval_metric))"
   ]
  },
  {
   "cell_type": "code",
   "execution_count": 30,
   "metadata": {},
   "outputs": [],
   "source": [
    "maria_qual_codes = [\n",
    "                    ['IR'], [], ['MI', 'IG'], [], ['MI'], [], [], [], ['MI'],\n",
    "                    [], [], ['MI'], ['IR'], ['IR'], ['MO', 'IR'], ['MO', 'IR'],\n",
    "                    [], ['MO'], [], [], [], ['MO'], ['MO'], ['MO'], [], [], [], \n",
    "                    ['IR'], [], [], ['MO'], ['MO'], [], [], [], [], [], [], [], \n",
    "                    [], [], [], [], [], [], [], [], [], ['MO'], [], [], [], [],\n",
    "                    ['MO'], [], [], ['O'], ['MI'], [], ['MI'], ['MO', 'IG'], [],\n",
    "                    ['MO', 'IG'], [], ['MI'], ['MI'], [], ['MI', 'MO'], ['MI'],\n",
    "                    ['MI'], [], [], [], [], ['MO'], ['MO'], [], [], [], [], [], \n",
    "                    [], [], [], [], ['O'], [], [], [], [], [], [], [], [], [], \n",
    "                    [], [], [], [], [], [], [], [], [], [], [], [], [], [], [], \n",
    "                    [], [], [], [], ['IG'], ['IG'], ['O'], [], [], ['O']\n",
    "                                                                               ]"
   ]
  },
  {
   "cell_type": "code",
   "execution_count": 31,
   "metadata": {},
   "outputs": [
    {
     "name": "stdout",
     "output_type": "stream",
     "text": [
      "120\n"
     ]
    }
   ],
   "source": [
    "print(len(maria_qual_codes)) # Should be 120"
   ]
  },
  {
   "cell_type": "code",
   "execution_count": 32,
   "metadata": {},
   "outputs": [],
   "source": [
    "manuel_qual_codes = [\n",
    "                     ['MO'], [], ['MI', 'MO', 'IG'], [], ['MI'], [], [], ['O'], ['MI'],\n",
    "                    ['MO', 'O'], ['MO'], ['MI'], [], ['O'], ['MI', 'O'], ['MI', 'O'],\n",
    "                    [], [], ['MI', 'IG'], ['MI', 'IG'], [], ['MI', 'MO', 'IG'], ['MI'],\n",
    "                    ['MI', 'MO', 'IG'], [], ['MI'], ['MI'], ['MI', 'MO'], ['O'], ['MI'],\n",
    "                    [], ['MO'], [], ['MO'], ['MO'], ['O'], [], [], ['O'], [], [], [], \n",
    "                    [], [], [], ['MO', 'IG'], ['MO'], ['MO', 'IG'], ['MI', 'MO', 'O'], [],\n",
    "                    [], ['MI', 'O'], [], ['MI', 'MO', 'IG'], ['MI', 'MO'], [], ['O'], \n",
    "                    ['MI'], ['O'], ['MI', 'IG'], ['MO', 'IG', 'O'], ['MO'], ['MO', 'IG'],\n",
    "                    ['MO'], ['MI', 'MO', 'IG'], ['MI', 'MO', 'IG'], [], ['MI', 'MO'],\n",
    "                    ['MI', 'MO', 'IG'], ['MI', 'MO'], [], [], [], ['O'], ['O'], ['O'], \n",
    "                    [], [], [], [], [], [], ['O'], [], [], ['O'], [], [], [], [], [], \n",
    "                    [], ['MO', 'O'], ['MO', 'O'], [], ['MO', 'O'], [], [], [], [], [], \n",
    "                    [], [], [], ['MO', 'IG'], [], ['MO', 'IG'], [], [], [], [], [], \n",
    "                    [], [], ['MO', 'IG'], ['MO', 'IG'], ['O'], [], [], ['O']    \n",
    "]"
   ]
  },
  {
   "cell_type": "code",
   "execution_count": 33,
   "metadata": {},
   "outputs": [],
   "source": [
    "all_qual_codes = [l1+l2 for l1,l2 in zip(maria_qual_codes, manuel_qual_codes)]"
   ]
  },
  {
   "cell_type": "code",
   "execution_count": 34,
   "metadata": {},
   "outputs": [
    {
     "name": "stdout",
     "output_type": "stream",
     "text": [
      "120\n"
     ]
    }
   ],
   "source": [
    "print(len(manuel_qual_codes)) # Should be 120"
   ]
  },
  {
   "cell_type": "code",
   "execution_count": 35,
   "metadata": {},
   "outputs": [],
   "source": [
    "freq_dict_hum, freq_dict_mod, freq_dict_bsl, freq_dict_gt = {},{},{},{}"
   ]
  },
  {
   "cell_type": "code",
   "execution_count": 36,
   "metadata": {},
   "outputs": [],
   "source": [
    "dict_master_list = [freq_dict_hum, freq_dict_bsl, freq_dict_mod, freq_dict_gt]\n",
    "assoc_codes = ['Human', 'Baseline', 'Modified', 'Google Translate']"
   ]
  },
  {
   "cell_type": "code",
   "execution_count": 37,
   "metadata": {},
   "outputs": [],
   "source": [
    "for i in range(len(dict_master_list)):\n",
    "    freq_dict = dict_master_list[i]\n",
    "    for k in range(len(all_qual_codes)):\n",
    "        if system_codes[k] == assoc_codes[i]:\n",
    "            if len(all_qual_codes[k]) != 0:\n",
    "                for code in all_qual_codes[k]:\n",
    "                    if code not in freq_dict:\n",
    "                        freq_dict[code] = 1\n",
    "                    else:\n",
    "                        freq_dict[code] += 1"
   ]
  },
  {
   "cell_type": "code",
   "execution_count": 38,
   "metadata": {},
   "outputs": [
    {
     "name": "stdout",
     "output_type": "stream",
     "text": [
      "{'MO': 5, 'O': 2, 'IR': 1}\n"
     ]
    }
   ],
   "source": [
    "print(freq_dict_hum)"
   ]
  },
  {
   "cell_type": "code",
   "execution_count": 39,
   "metadata": {},
   "outputs": [
    {
     "name": "stdout",
     "output_type": "stream",
     "text": [
      "{'MI': 16, 'IG': 11, 'MO': 13, 'IR': 1, 'O': 15}\n"
     ]
    }
   ],
   "source": [
    "print(freq_dict_bsl)"
   ]
  },
  {
   "cell_type": "code",
   "execution_count": 40,
   "metadata": {},
   "outputs": [
    {
     "name": "stdout",
     "output_type": "stream",
     "text": [
      "{'O': 7, 'MO': 20, 'IR': 2, 'MI': 11, 'IG': 12}\n"
     ]
    }
   ],
   "source": [
    "print(freq_dict_mod)"
   ]
  },
  {
   "cell_type": "code",
   "execution_count": 41,
   "metadata": {},
   "outputs": [
    {
     "name": "stdout",
     "output_type": "stream",
     "text": [
      "{'IR': 2, 'MO': 9, 'MI': 10, 'O': 3}\n"
     ]
    }
   ],
   "source": [
    "print(freq_dict_gt)"
   ]
  },
  {
   "cell_type": "code",
   "execution_count": 42,
   "metadata": {},
   "outputs": [],
   "source": [
    "acc_ratings = maria_accuracy_ratings+manuel_accuracy_ratings"
   ]
  },
  {
   "cell_type": "code",
   "execution_count": 43,
   "metadata": {},
   "outputs": [],
   "source": [
    "sd_ratings = maria_sentiment_ratings+manuel_sentiment_ratings"
   ]
  },
  {
   "cell_type": "code",
   "execution_count": 44,
   "metadata": {},
   "outputs": [],
   "source": [
    "from scipy.stats import pearsonr"
   ]
  },
  {
   "cell_type": "code",
   "execution_count": 45,
   "metadata": {},
   "outputs": [
    {
     "name": "stdout",
     "output_type": "stream",
     "text": [
      "(-0.7640222061855952, 3.4233813493409903e-47)\n"
     ]
    }
   ],
   "source": [
    "print(pearsonr(acc_ratings, sd_ratings))"
   ]
  },
  {
   "cell_type": "code",
   "execution_count": 46,
   "metadata": {},
   "outputs": [],
   "source": [
    "idiom_acc_ratings = maria_accuracy_ratings_idiom+manuel_accuracy_ratings_idiom"
   ]
  },
  {
   "cell_type": "code",
   "execution_count": 47,
   "metadata": {},
   "outputs": [],
   "source": [
    "idiom_sd_ratings = maria_sentiment_ratings_idiom+manuel_sentiment_ratings_idiom"
   ]
  },
  {
   "cell_type": "code",
   "execution_count": 48,
   "metadata": {},
   "outputs": [
    {
     "name": "stdout",
     "output_type": "stream",
     "text": [
      "(-0.7591136364190383, 9.900588617671247e-21)\n"
     ]
    }
   ],
   "source": [
    "print(pearsonr(idiom_acc_ratings, idiom_sd_ratings))"
   ]
  },
  {
   "cell_type": "code",
   "execution_count": null,
   "metadata": {},
   "outputs": [],
   "source": []
  }
 ],
 "metadata": {
  "kernelspec": {
   "display_name": "Python 3",
   "language": "python",
   "name": "python3"
  },
  "language_info": {
   "codemirror_mode": {
    "name": "ipython",
    "version": 3
   },
   "file_extension": ".py",
   "mimetype": "text/x-python",
   "name": "python",
   "nbconvert_exporter": "python",
   "pygments_lexer": "ipython3",
   "version": "3.8.5"
  }
 },
 "nbformat": 4,
 "nbformat_minor": 4
}
